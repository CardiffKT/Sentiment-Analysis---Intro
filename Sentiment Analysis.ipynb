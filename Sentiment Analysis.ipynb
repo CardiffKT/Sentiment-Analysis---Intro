{
 "cells": [
  {
   "cell_type": "markdown",
   "metadata": {},
   "source": [
    "## What is Sentiment Analysis?\n",
    "Sentiment Analysis is the process of ‘computationally’ determining whether a piece of writing is positive, negative or neutral. It’s also known as opinion mining, deriving the opinion or attitude of a speaker.\n",
    "\n",
    "## Popular applications of Sentiment Analysis\n",
    "- Movies: To understand people's thoughts on the movies.\n",
    "- Business: Helps a business understand their customers' feelings towards their products or brand; develop strategies for compaigns or product launches.\n",
    "- Politics: To interpret people's views on the statements and actions at the government level. Also, could be used to predict election results!\n",
    "- Public Actions: To monitor and analyse social phenomena, for the spotting of potentially dangerous situations and determining the general mood of the blogosphere."
   ]
  },
  {
   "cell_type": "markdown",
   "metadata": {},
   "source": [
    "### Python and pre-requisites\n",
    "\n",
    "I have launched Jupytor notebooks which is included when downloading Anaconda. I like Jupytor notebooks as it is easier to publish and separate notes from code.\n",
    "\n",
    "Prior to running code in Python, there are a few packages to be installed:\n",
    "##### - Windows: Open the Anaconda Prompt program. You should see a command prompt window.\n",
    "##### - Mac/Linux: Your terminal window should already be open. Type command-t to open a new tab.\n",
    "\n",
    "#### Type the following into the black window:\n",
    "- Vader is the python library for processing textual data (another optional application is TextBlob).\n",
    "> python -m pip install vaderSentiment\n",
    "- we need to install some NLTK corpora. It helps to manage a large and structured set of texts.\n",
    "> python -m textblob.download_corpora\n",
    "\n",
    "Once complete, you can switch back to Jupytor notebooks."
   ]
  },
  {
   "cell_type": "code",
   "execution_count": 1,
   "metadata": {},
   "outputs": [],
   "source": [
    "from vaderSentiment.vaderSentiment import SentimentIntensityAnalyzer\n",
    "analyser = SentimentIntensityAnalyzer()"
   ]
  },
  {
   "cell_type": "code",
   "execution_count": 2,
   "metadata": {},
   "outputs": [
    {
     "data": {
      "text/plain": [
       "{'neg': 0.0, 'neu': 0.508, 'pos': 0.492, 'compound': 0.4404}"
      ]
     },
     "execution_count": 2,
     "metadata": {},
     "output_type": "execute_result"
    }
   ],
   "source": [
    "analyser.polarity_scores(\"The movie is good\")"
   ]
  },
  {
   "cell_type": "markdown",
   "metadata": {},
   "source": [
    "The result states the following assumptions of the text:\n",
    "- Negative ('neg') to be 0.0\n",
    "- Neutral ('neu') to be 0.508\n",
    "- Positive ('pos') to be 0.492\n",
    "\n",
    "The most important value in the above result is the 'compound'. This is the score of the text.\n",
    "\n",
    "The Compound score has a range of [-1, 1], being:\n",
    "- [-1 to 0): negative,\n",
    "- [0]: neutral\n",
    "- (0 to +1]: positive\n",
    "\n",
    "Returning to our analysis, the sentiment analysis of the text denotes it is more positive than neutral and definitely not negative.\n",
    "\n",
    "Let's check the different degrees of sentiment:"
   ]
  },
  {
   "cell_type": "code",
   "execution_count": 3,
   "metadata": {},
   "outputs": [
    {
     "name": "stdout",
     "output_type": "stream",
     "text": [
      " “The movie is very bad” ==> Compound:  -0.5849\n",
      " “The movie is VERY BAD” ==> Compound:  -0.7398\n",
      " “The movie is VERY BAD!!!” ==> Compound:  -0.7984\n"
     ]
    }
   ],
   "source": [
    "text1 = 'The movie is very bad' \n",
    "text1_score = analyser.polarity_scores(text1)\n",
    "print(' “The movie is very bad” ==> Compound: ',text1_score['compound'])\n",
    "\n",
    "text2 = 'The movie is VERY BAD' \n",
    "text2_score = analyser.polarity_scores(text2)\n",
    "print(' “The movie is VERY BAD” ==> Compound: ',text2_score['compound'])\n",
    "\n",
    "text3 = 'The movie is VERY BAD!!!' \n",
    "text3_score = analyser.polarity_scores(text3)\n",
    "print(' “The movie is VERY BAD!!!” ==> Compound: ',text3_score['compound'])\n"
   ]
  },
  {
   "cell_type": "markdown",
   "metadata": {},
   "source": [
    "Notice how the value of the compound becomes more and more negative when you include capital letters and exclamation marks!\n",
    "\n",
    "Here's another example where sentiment analysis can be done on a text from a different language. \n",
    "\n",
    "Note 1: Vader application is built in English so you will need to translate the text into English.\n",
    "For that, we will use Googletrans, a free and unlimited python library that implemented Google Translate API (for details, please refer to the API Documentation).\n",
    "\n",
    "Note 2: In order for the translation to work, you will need to be connected to the internet.\n",
    "\n",
    "To install Googletrans, you can go back to the command prompt or terminal window and type the following command: \n",
    "> python -m pip install googletrans\n"
   ]
  },
  {
   "cell_type": "code",
   "execution_count": 4,
   "metadata": {},
   "outputs": [],
   "source": [
    "from googletrans import Translator\n",
    "translator = Translator()"
   ]
  },
  {
   "cell_type": "code",
   "execution_count": 5,
   "metadata": {},
   "outputs": [
    {
     "data": {
      "text/plain": [
       "{'neg': 0.0, 'neu': 0.488, 'pos': 0.512, 'compound': 0.6369}"
      ]
     },
     "execution_count": 5,
     "metadata": {},
     "output_type": "execute_result"
    }
   ],
   "source": [
    "# Spanish: \"My sister is the best\"\n",
    "text = translator.translate('mi hermana esla mejor').text\n",
    "analyser.polarity_scores(text)"
   ]
  },
  {
   "cell_type": "markdown",
   "metadata": {},
   "source": [
    "Here's a function that will run the text through, if the language is English it will automatically perform sentiment analysis, else it will translate and then perform the analysis."
   ]
  },
  {
   "cell_type": "code",
   "execution_count": 6,
   "metadata": {},
   "outputs": [],
   "source": [
    "def sentiment_analyzer_scores(text, engl=True):\n",
    "    if engl:\n",
    "        trans = text\n",
    "    else:\n",
    "        trans = translator.translate(text).text\n",
    "    score = analyser.polarity_scores(trans)\n",
    "    lb = score['compound']\n",
    "    if lb >= 0.05:\n",
    "        return 1\n",
    "    elif (lb > -0.05) and (lb < 0.05):\n",
    "        return 0\n",
    "    else:\n",
    "        return -1"
   ]
  },
  {
   "cell_type": "code",
   "execution_count": 7,
   "metadata": {},
   "outputs": [
    {
     "data": {
      "text/plain": [
       "1"
      ]
     },
     "execution_count": 7,
     "metadata": {},
     "output_type": "execute_result"
    }
   ],
   "source": [
    "# Portuguese: “The day is beautiful, with a lot of sun”\n",
    "text = 'o dia esta lindo, com muito sol'\n",
    "sentiment_analyzer_scores(text, False)"
   ]
  },
  {
   "cell_type": "code",
   "execution_count": 8,
   "metadata": {},
   "outputs": [
    {
     "data": {
      "text/plain": [
       "-1"
      ]
     },
     "execution_count": 8,
     "metadata": {},
     "output_type": "execute_result"
    }
   ],
   "source": [
    "# French: “It is very horrible”\n",
    "text = \"No! c'est tres horrible\"\n",
    "sentiment_analyzer_scores(text, False)"
   ]
  },
  {
   "cell_type": "markdown",
   "metadata": {},
   "source": [
    "Great! At this point, we can analyze the sentiment behind text in practically any language!"
   ]
  },
  {
   "cell_type": "markdown",
   "metadata": {},
   "source": [
    "Here are some practical ways you can use this information:\n",
    "\n",
    "- Create a spatial graph on where your company is mentioned the most around the world\n",
    "- Run sentiment analysis on tweets to see if the overall opinion of your company is positive or negative\n",
    "- Create a social graphs of the most popular users that tweet about your company or product\n"
   ]
  },
  {
   "cell_type": "markdown",
   "metadata": {},
   "source": [
    "### References:\n",
    "- https://www.geeksforgeeks.org/twitter-sentiment-analysis-using-python/\n",
    "- https://towardsdatascience.com/almost-real-time-twitter-sentiment-analysis-with-tweep-vader-f88ed5b93b1c"
   ]
  }
 ],
 "metadata": {
  "kernelspec": {
   "display_name": "Python 3",
   "language": "python",
   "name": "python3"
  },
  "language_info": {
   "codemirror_mode": {
    "name": "ipython",
    "version": 3
   },
   "file_extension": ".py",
   "mimetype": "text/x-python",
   "name": "python",
   "nbconvert_exporter": "python",
   "pygments_lexer": "ipython3",
   "version": "3.7.4"
  }
 },
 "nbformat": 4,
 "nbformat_minor": 2
}
